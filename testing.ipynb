{
 "cells": [
  {
   "cell_type": "code",
   "execution_count": 1,
   "metadata": {},
   "outputs": [],
   "source": [
    "# import os\n",
    "# import numpy as np\n",
    "# import whisper \n",
    "# from pydub import AudioSegment\n",
    "\n",
    "# model = whisper.load_model(\"tiny\")"
   ]
  },
  {
   "cell_type": "code",
   "execution_count": 2,
   "metadata": {},
   "outputs": [],
   "source": [
    "# current_directory = os.getcwd()\n",
    "# result = model.transcribe(current_directory + \"/recordings/test_2.mp3\", fp16= True)\n",
    "# print(result[\"text\"])"
   ]
  },
  {
   "cell_type": "code",
   "execution_count": 3,
   "metadata": {},
   "outputs": [],
   "source": [
    "# import os\n",
    "\n",
    "# from groq import Groq\n",
    "\n",
    "# client = Groq(\n",
    "#     api_key=\"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\"\n",
    "# )\n",
    "\n",
    "# chat_completion = client.chat.completions.create(\n",
    "#     messages=[\n",
    "#         {\n",
    "#             \"role\": \"user\",\n",
    "#             \"content\": result[\"text\"],\n",
    "#         }\n",
    "#     ],\n",
    "#     model=\"mixtral-8x7b-32768\",\n",
    "# )\n",
    "\n",
    "# print(chat_completion.choices[0].message.content)"
   ]
  },
  {
   "cell_type": "code",
   "execution_count": 4,
   "metadata": {},
   "outputs": [],
   "source": [
    "# os.getcwd()"
   ]
  },
  {
   "cell_type": "code",
   "execution_count": 5,
   "metadata": {},
   "outputs": [],
   "source": [
    "# import pyaudio\n",
    "\n",
    "# # Initialize PyAudio\n",
    "# audio = pyaudio.PyAudio()\n",
    "\n",
    "# # Get the number of available audio devices\n",
    "# num_devices = audio.get_device_count()\n",
    "\n",
    "# print(\"Available audio devices:\")\n",
    "\n",
    "# # Iterate over each audio device\n",
    "# for i in range(num_devices):\n",
    "#     device_info = audio.get_device_info_by_index(i)\n",
    "#     device_name = device_info['name']\n",
    "#     print(f\"Device {i}: {device_name}\")\n",
    "\n",
    "# # Get the index of the default input (recording) device\n",
    "# default_input_device_index = audio.get_default_input_device_info()['index']\n",
    "\n",
    "# print(\"\\nDefault input device:\", audio.get_device_info_by_index(default_input_device_index)['name'])\n",
    "\n",
    "# # Get the index of the input (recording) device being used\n",
    "# input_device_index = audio.get_device_info_by_index(default_input_device_index)['index']\n",
    "\n",
    "# print(\"Input device being used:\", audio.get_device_info_by_index(input_device_index)['name'])\n",
    "\n",
    "# # Terminate PyAudio\n",
    "# audio.terminate()\n"
   ]
  },
  {
   "cell_type": "code",
   "execution_count": 6,
   "metadata": {},
   "outputs": [],
   "source": [
    "# import pyaudio\n",
    "# import wave\n",
    "# from pydub import AudioSegment\n",
    "\n",
    "# # Parameter list for recordings\n",
    "\n",
    "# FORMAT = pyaudio.paInt16\n",
    "# CHANNELS = 1\n",
    "# RATE = 44100\n",
    "# CHUNK = 1024\n",
    "# RECORD_SECONDS = 3\n",
    "# WAVE_OUTPUT_FILENAME = current_directory + \"/recordings/input_query.wav\"\n",
    "# MP3_OUTPUT_FILENAME = current_directory + \"/recordings/input_query.mp3\"\n",
    "\n",
    "# # Initialize PyAudio\n",
    "# audio = pyaudio.PyAudio()\n",
    "\n",
    "# # printing to see what input recording device is being used\n",
    "# input_device_index = audio.get_device_info_by_index(default_input_device_index)['index']\n",
    "# print(\"Input device: \", audio.get_device_info_by_index(input_device_index)['name'])\n",
    "\n",
    "# # Open stream\n",
    "# stream = audio.open(format=FORMAT,\n",
    "#                     channels=CHANNELS,\n",
    "#                     rate=RATE,\n",
    "#                     input=True,\n",
    "#                     frames_per_buffer=CHUNK)\n",
    "\n",
    "# print(\"Recording...\")\n",
    "\n",
    "# frames = []\n",
    "\n",
    "# # Record audio for the specified duration\n",
    "# for i in range(0, int(RATE / CHUNK * RECORD_SECONDS)):\n",
    "#     data = stream.read(CHUNK)\n",
    "#     frames.append(data)\n",
    "\n",
    "# print(\"Finished recording.\")\n",
    "\n",
    "# # Stop and close the stream\n",
    "# stream.stop_stream()\n",
    "# stream.close()\n",
    "# audio.terminate()\n",
    "\n",
    "# # Save the recorded audio to a WAV file\n",
    "# with wave.open(WAVE_OUTPUT_FILENAME, 'wb') as wf:\n",
    "#     wf.setnchannels(CHANNELS)\n",
    "#     wf.setsampwidth(audio.get_sample_size(FORMAT))\n",
    "#     wf.setframerate(RATE)\n",
    "#     wf.writeframes(b''.join(frames))\n",
    "\n",
    "# print(\"Audio saved as:\", WAVE_OUTPUT_FILENAME)\n",
    "\n",
    "# # Convert WAV to MP3\n",
    "# audio = AudioSegment.from_wav(WAVE_OUTPUT_FILENAME)\n",
    "# audio.export(MP3_OUTPUT_FILENAME, format=\"mp3\")\n",
    "\n",
    "# os.remove(current_directory + \"/recordings/input_query.wav\")\n",
    "# print(\"Audio saved as:\", MP3_OUTPUT_FILENAME)\n"
   ]
  },
  {
   "cell_type": "code",
   "execution_count": 5,
   "metadata": {},
   "outputs": [],
   "source": [
    "os.remove(current_directory + \"/recordings/input_query.mp3\")"
   ]
  },
  {
   "cell_type": "code",
   "execution_count": 1,
   "metadata": {},
   "outputs": [],
   "source": [
    "import os\n",
    "import time\n",
    "from functions import aqs, fcs, gstt, recorder, wp\n",
    "\n",
    "# Setting necessary path for recordings \n",
    "current_directory = os.getcwd()\n",
    "audio_path = current_directory+ \"/recordings/\"\n",
    "\n",
    "# calling the recorder function to record audio for 5 seconds\n",
    "recorder.record(current_directory, 5)\n",
    "\n",
    "# defining the path to recoreded audio\n",
    "audio_file = audio_path + \"input_query.mp3\""
   ]
  },
  {
   "cell_type": "code",
   "execution_count": 2,
   "metadata": {},
   "outputs": [],
   "source": [
    "whisper_times = []\n",
    "google_times = []"
   ]
  },
  {
   "cell_type": "code",
   "execution_count": 3,
   "metadata": {},
   "outputs": [
    {
     "name": "stdout",
     "output_type": "stream",
     "text": [
      "--Using whisper--\n"
     ]
    },
    {
     "name": "stderr",
     "output_type": "stream",
     "text": [
      "d:\\LPI\\Makerlab\\AI Chatbot Local\\venv\\Lib\\site-packages\\whisper\\transcribe.py:115: UserWarning: FP16 is not supported on CPU; using FP32 instead\n",
      "  warnings.warn(\"FP16 is not supported on CPU; using FP32 instead\")\n"
     ]
    }
   ],
   "source": [
    "choice = input(\"Enter 1 for google, 2 for Whisper: \")\n",
    "\n",
    "if choice == '1' :\n",
    "    print(\"--Using google speech to text--\")\n",
    "    # Start measuring time\n",
    "    start_time_google = time.time() #in seconds\n",
    "\n",
    "    # converting to flac \n",
    "    fcs.flac_conversion(audio_file, audio_path)\n",
    "    audio_file = audio_path + \"input_query.flac\"\n",
    "\n",
    "    # getting text from speech (the question)\n",
    "    transcript = gstt.transcribe_audio(audio_file)\n",
    "\n",
    "    # Stop measuring time\n",
    "    end_time_google = time.time() #in seconds\n",
    "    google_times.append(end_time_google-start_time_google)\n",
    "\n",
    "elif choice == '2' :\n",
    "    print(\"--Using whisper--\")\n",
    "\n",
    "    # Start measuring time\n",
    "    start_time_whisper = time.time() #in seconds\n",
    "\n",
    "    # getting text from speech (the question)\n",
    "    transcript = wp.transcribe_audio(current_directory, \"medium\")\n",
    "\n",
    "    # Stop measuring time\n",
    "    end_time_whisper = time.time() #in seconds\n",
    "    whisper_times.append(end_time_whisper- start_time_whisper)\n",
    "\n",
    "else:\n",
    "    print(\"Invalid choice. Terminated\")"
   ]
  },
  {
   "cell_type": "code",
   "execution_count": 4,
   "metadata": {},
   "outputs": [
    {
     "name": "stdout",
     "output_type": "stream",
     "text": [
      "Your Question:  Can you explain what binomial distribution is?\n"
     ]
    }
   ],
   "source": [
    "# seeing the transcript \n",
    "print(\"Your Question: \" + transcript)"
   ]
  },
  {
   "cell_type": "code",
   "execution_count": 43,
   "metadata": {},
   "outputs": [
    {
     "name": "stdout",
     "output_type": "stream",
     "text": [
      "Your Question: how do I fly a drone\n"
     ]
    }
   ],
   "source": [
    "# removing the original mp3 file to declutter\n",
    "# os.remove(current_directory + \"/recordings/input_query.mp3\")"
   ]
  },
  {
   "cell_type": "code",
   "execution_count": 71,
   "metadata": {},
   "outputs": [
    {
     "name": "stdout",
     "output_type": "stream",
     "text": [
      "Certainly! In probability theory, a binomial distribution is a discrete probability distribution that describes the number of successes in a fixed number of independent Bernoulli trials with the same probability of success.\n",
      "\n",
      "Here's a breakdown of the terms:\n",
      "\n",
      "* A Bernoulli trial is an experiment that has only two possible outcomes: success or failure. The probability of success is denoted by p, and the probability of failure is denoted by q = 1 - p.\n",
      "* A binomial distribution describes the number of successes in a fixed number of independent Bernoulli trials. The number of trials is denoted by n, and the number of successes is denoted by X.\n",
      "* The probability of X successes in n trials is given by the binomial probability formula:\n",
      "\n",
      "P(X = k) = (n choose k) \\* p^k \\* q^(n-k)\n",
      "\n",
      "where (n choose k) is the binomial coefficient, which gives the number of ways to choose k successes from n trials.\n",
      "\n",
      "The mean (expected value) of a binomial distribution is np, and the variance is np(1-p).\n",
      "\n",
      "Binomial distributions are used in many fields, including statistics, finance, genetics, and engineering, to model the number of successes in a fixed number of trials. For example, a quality control engineer might use a binomial distribution to model the number of defective items in a sample of products, or a geneticist might use a binomial distribution to model the number of dominant alleles in a sample of individuals.\n"
     ]
    }
   ],
   "source": [
    "# getting answer from ai \n",
    "ai_answer = aqs.ai_query(transcript)\n",
    "print(ai_answer)"
   ]
  },
  {
   "cell_type": "code",
   "execution_count": 60,
   "metadata": {},
   "outputs": [
    {
     "data": {
      "text/plain": [
       "[1.6378428936004639]"
      ]
     },
     "execution_count": 60,
     "metadata": {},
     "output_type": "execute_result"
    }
   ],
   "source": [
    "# whisper_times\n",
    "# google_times"
   ]
  },
  {
   "cell_type": "code",
   "execution_count": 76,
   "metadata": {},
   "outputs": [
    {
     "data": {
      "image/png": "[encoded data removed]",
      "text/plain": [
       "<Figure size 640x480 with 1 Axes>"
      ]
     },
     "metadata": {},
     "output_type": "display_data"
    }
   ],
   "source": [
    "from matplotlib import pyplot as plt\n",
    "\n",
    "plt.xlabel('\\nModels Used for Transcription')\n",
    "plt.ylabel('Transcription Execution Time (Seconds)')\n",
    "plt.title(\"Comparison of execution time among models\\n\")\n",
    "\n",
    "x = ['Google\\nS2T']\n",
    "plt.bar(x, google_times, color='gray')\n",
    "\n",
    "x = ['Whisper-\\nTiny', 'Whisper-\\nBase', 'Whisper-\\nSmall', 'Whisper-\\nMedium']\n",
    "plt.bar(x, whisper_times, color='gray')\n",
    "plt.savefig(\"comparsion.png\")\n",
    "plt.show()"
   ]
  }
 ],
 "metadata": {
  "kernelspec": {
   "display_name": "venv",
   "language": "python",
   "name": "python3"
  },
  "language_info": {
   "codemirror_mode": {
    "name": "ipython",
    "version": 3
   },
   "file_extension": ".py",
   "mimetype": "text/x-python",
   "name": "python",
   "nbconvert_exporter": "python",
   "pygments_lexer": "ipython3",
   "version": "3.12.2"
  }
 },
 "nbformat": 4,
 "nbformat_minor": 2
}
